{
 "cells": [
  {
   "cell_type": "markdown",
   "id": "7c31029d-5ab2-453f-98aa-cafdd93c240b",
   "metadata": {},
   "source": [
    "# Data Science Tools and Ecosystem"
   ]
  },
  {
   "cell_type": "markdown",
   "id": "9dc3c2cd-eed8-4f13-8903-7c8d090d3243",
   "metadata": {},
   "source": [
    "In this notebook, Data Science Tools and Ecosystem are summarized"
   ]
  },
  {
   "cell_type": "markdown",
   "id": "2269bb1f-38bf-4da0-adc6-5f2b92ccd005",
   "metadata": {},
   "source": [
    "**Objectives:**"
   ]
  },
  {
   "cell_type": "markdown",
   "id": "9500268e-d739-4b1c-babe-5f7dce7895c0",
   "metadata": {},
   "source": [
    "- List popular languages for Data Science\n",
    "- Examples of evaluating arithmetic expressions in Python\n",
    "- Commonly used libraries used by Data Scientists"
   ]
  },
  {
   "cell_type": "markdown",
   "id": "d8adf3f3-f659-43ff-8f13-2f7938480d83",
   "metadata": {},
   "source": [
    "Some of the popular languages that Data Scientists use are:\n",
    "1. Python\n",
    "2. R\n",
    "3. SQL"
   ]
  },
  {
   "cell_type": "markdown",
   "id": "e6e6a403-1fc2-41c9-99da-5365eff8805b",
   "metadata": {},
   "source": [
    "Some of the commonly used libraries used by Data Scientists include:"
   ]
  },
  {
   "cell_type": "markdown",
   "id": "65d742bb-b5f1-46bb-a266-b25e8922b882",
   "metadata": {},
   "source": [
    "1. Numpy\n",
    "2. scipy\n",
    "3. Scikit-learn"
   ]
  },
  {
   "cell_type": "markdown",
   "id": "9cfc98dc-1d66-40a6-b1d0-688d41668913",
   "metadata": {},
   "source": [
    "|Data Science Tools| \n",
    "| -------------    |\n",
    "| Apache Spark     |\n",
    "| Rstudio          |\n",
    "| Tensor Flow      | "
   ]
  },
  {
   "cell_type": "markdown",
   "id": "8ee836a4-7c84-4d6c-9beb-836bb9b72180",
   "metadata": {},
   "source": [
    "### Below are a few examples of evaluating arithmetic expressions in Python"
   ]
  },
  {
   "cell_type": "markdown",
   "id": "e7a3eaa1-9023-45c8-a870-472ca30b9922",
   "metadata": {},
   "source": [
    "2+2"
   ]
  },
  {
   "cell_type": "markdown",
   "id": "52189f92-585c-4efb-83b9-63e8a10c30ab",
   "metadata": {},
   "source": [
    "(5+9)*2"
   ]
  },
  {
   "cell_type": "markdown",
   "id": "9d9d9553-1527-4f9c-8d56-645c90565edd",
   "metadata": {},
   "source": [
    "This a simple arithmetic expression to mutiply then add integers"
   ]
  },
  {
   "cell_type": "code",
   "execution_count": 41,
   "id": "2ebce74a-4a52-462c-af71-3283f3b951f3",
   "metadata": {},
   "outputs": [
    {
     "data": {
      "text/plain": [
       "17"
      ]
     },
     "execution_count": 41,
     "metadata": {},
     "output_type": "execute_result"
    }
   ],
   "source": [
    "(3*4)+5"
   ]
  },
  {
   "cell_type": "markdown",
   "id": "c0495991-339b-4c85-b567-b20437c13f68",
   "metadata": {},
   "source": [
    "This will convert 200 minutes to hours by dividing by 60"
   ]
  },
  {
   "cell_type": "code",
   "execution_count": 45,
   "id": "6d6f9b7e-0d60-4125-aa52-4f60e6e5cd68",
   "metadata": {},
   "outputs": [
    {
     "name": "stdout",
     "output_type": "stream",
     "text": [
      "3\n"
     ]
    }
   ],
   "source": [
    "h=200//60\n",
    "print(h)"
   ]
  },
  {
   "cell_type": "markdown",
   "id": "0079a880-1a8e-4343-9940-867a73fb466f",
   "metadata": {},
   "source": [
    "## Author \n",
    "Lena GUIOT"
   ]
  }
 ],
 "metadata": {
  "kernelspec": {
   "display_name": "anaconda-panel-2023.05-py310",
   "language": "python",
   "name": "conda-env-anaconda-panel-2023.05-py310-py"
  },
  "language_info": {
   "codemirror_mode": {
    "name": "ipython",
    "version": 3
   },
   "file_extension": ".py",
   "mimetype": "text/x-python",
   "name": "python",
   "nbconvert_exporter": "python",
   "pygments_lexer": "ipython3",
   "version": "3.11.4"
  }
 },
 "nbformat": 4,
 "nbformat_minor": 5
}
